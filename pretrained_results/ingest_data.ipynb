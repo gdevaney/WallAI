{
 "cells": [
  {
   "cell_type": "code",
   "execution_count": 1,
   "metadata": {},
   "outputs": [],
   "source": [
    "# this script will generate all the results for the subfolders in the pretrained_results: cv2_results, pspnet_results, semantic_results\n",
    "%load_ext autoreload\n",
    "%autoreload 2\n"
   ]
  },
  {
   "cell_type": "code",
   "execution_count": 2,
   "metadata": {},
   "outputs": [
    {
     "data": {
      "text/plain": [
       "False"
      ]
     },
     "execution_count": 2,
     "metadata": {},
     "output_type": "execute_result"
    }
   ],
   "source": [
    "import torch\n",
    "torch.cuda.is_available()\n"
   ]
  },
  {
   "cell_type": "code",
   "execution_count": 4,
   "metadata": {},
   "outputs": [],
   "source": [
    "# %pip install -r requirements.txt"
   ]
  },
  {
   "cell_type": "code",
   "execution_count": 5,
   "metadata": {},
   "outputs": [],
   "source": [
    "# %%python -m pip install torch"
   ]
  },
  {
   "cell_type": "code",
   "execution_count": 6,
   "metadata": {},
   "outputs": [],
   "source": [
    "import os, sys\n",
    "os.getcwd()\n",
    "sys.path.append('/Users/yoon/Documents/gatech/spring24/WallAI')\n",
    "sys.path.append('/Users/yoon/Documents/gatech/spring24/WallAI/semantic_segmentation_pytorch')\n",
    "\n"
   ]
  },
  {
   "cell_type": "code",
   "execution_count": null,
   "metadata": {},
   "outputs": [],
   "source": []
  },
  {
   "cell_type": "code",
   "execution_count": 7,
   "metadata": {},
   "outputs": [
    {
     "name": "stderr",
     "output_type": "stream",
     "text": [
      "/Users/yoon/miniforge3/envs/wall_ai/lib/python3.11/site-packages/torchvision/io/image.py:13: UserWarning: Failed to load image Python extension: 'dlopen(/Users/yoon/miniforge3/envs/wall_ai/lib/python3.11/site-packages/torchvision/image.so, 0x0006): Symbol not found: __ZN3c1017RegisterOperatorsD1Ev\n",
      "  Referenced from: <CFED5F8E-EC3F-36FD-AAA3-2C6C7F8D3DD9> /Users/yoon/miniforge3/envs/wall_ai/lib/python3.11/site-packages/torchvision/image.so\n",
      "  Expected in:     <E459C462-F863-3A5A-AC9F-FD77B14BE845> /Users/yoon/miniforge3/envs/wall_ai/lib/python3.11/site-packages/torch/lib/libtorch_cpu.dylib'If you don't plan on using image functionality from `torchvision.io`, you can ignore this warning. Otherwise, there might be something wrong with your environment. Did you have `libjpeg` or `libpng` installed before building `torchvision` from source?\n",
      "  warn(\n"
     ]
    },
    {
     "name": "stdout",
     "output_type": "stream",
     "text": [
      "Loading weights for net_encoder\n",
      "Loading weights for net_decoder\n"
     ]
    }
   ],
   "source": [
    "\n",
    "import torch, numpy, scipy.io, PIL.Image, torchvision.transforms\n",
    "# Our libs\n",
    "\n",
    "\n",
    "from semantic_segmentation_pytorch.mit_semseg.models import ModelBuilder, SegmentationModule\n",
    "from semantic_segmentation_pytorch.mit_semseg.utils import colorEncode\n",
    "\n",
    "\n",
    "def return_semantic_result(filename: str):\n",
    "    # Network Builders\n",
    "    net_encoder = ModelBuilder.build_encoder(\n",
    "        arch='resnet50dilated',\n",
    "        fc_dim=2048,\n",
    "        weights='/Users/yoon/Documents/gatech/spring24/WallAI/semantic_segmentation_pytorch/ckpt/ade20k-resnet50dilated-ppm_deepsup/encoder_epoch_20.pth')\n",
    "    net_decoder = ModelBuilder.build_decoder(\n",
    "        arch='ppm_deepsup',\n",
    "        fc_dim=2048,\n",
    "        num_class=150,\n",
    "        weights='/Users/yoon/Documents/gatech/spring24/WallAI/semantic_segmentation_pytorch/ckpt/ade20k-resnet50dilated-ppm_deepsup/decoder_epoch_20.pth',\n",
    "        use_softmax=True)\n",
    "\n",
    "\n",
    "    crit = torch.nn.NLLLoss(ignore_index=-1)\n",
    "    segmentation_module = SegmentationModule(net_encoder, net_decoder, crit)\n",
    "    segmentation_module.eval()\n",
    "    DEVICE = torch.device(\"cuda\" if torch.cuda.is_available() else \"cpu\")\n",
    "    segmentation_module.to(DEVICE)\n",
    "    # segmentation_module.cuda()\n",
    "\n",
    "    # Load and normalize one image as a singleton tensor batch\n",
    "    pil_to_tensor = torchvision.transforms.Compose([\n",
    "        torchvision.transforms.ToTensor(),\n",
    "        torchvision.transforms.Normalize(\n",
    "            mean=[0.485, 0.456, 0.406], # These are RGB mean+std values\n",
    "            std=[0.229, 0.224, 0.225])  # across a large photo dataset.\n",
    "    ])\n",
    "\n",
    "    # pil_image = PIL.Image.open('our_data/Test/33012f501af95eecd41803710646e57e87c2680d.jpg').convert('RGB')\n",
    "    pil_image = PIL.Image.open(filename).convert('RGB')\n",
    "    img_original = numpy.array(pil_image)\n",
    "    img_data = pil_to_tensor(pil_image)\n",
    "    # singleton_batch = {'img_data': img_data[None].cuda()}\n",
    "    singleton_batch = {'img_data': img_data[None].to(DEVICE)}\n",
    "    output_size = img_data.shape[1:]\n",
    "\n",
    "\n",
    "    # Run the segmentation at the highest resolution.\n",
    "    with torch.no_grad():\n",
    "        scores = segmentation_module(singleton_batch, segSize=output_size)\n",
    "\n",
    "    # Get the predicted scores for each pixel\n",
    "    _, pred = torch.max(scores, dim=1)\n",
    "    pred = pred.cpu()[0].numpy()\n",
    "\n",
    "    def visualize_wall(img, pred, class_to_display=0):\n",
    "        \"\"\"\n",
    "            Function for visualizing wall prediction\n",
    "            (original image, segmentation mask and original image with the segmented wall)\n",
    "        \"\"\"\n",
    "        img_green = img.copy()\n",
    "        black_green = img.copy()\n",
    "        img_green[pred == class_to_display] = [111, 209, 201]\n",
    "        black_green[pred == class_to_display] = [111, 209, 201]\n",
    "        black_green[pred != class_to_display] = [0, 0, 0]\n",
    "        # im_vis = numpy.concatenate((img, black_green, img_green), axis=1)\n",
    "        im_vis = numpy.concatenate((img, img_green), axis=1)\n",
    "        return PIL.Image.fromarray(im_vis)\n",
    "\n",
    "        # display(PIL.Image.fromarray(im_vis))\n",
    "\n",
    "    predicted_classes = numpy.bincount(pred.flatten()).argsort()[::-1]\n",
    "    visualize_wall(img_original, pred, predicted_classes[0])\n",
    "    \n",
    "    # for c in predicted_classes[:15]:\n",
    "    #     visualize_wall(img_original, pred, c)\n",
    "\n",
    "img = return_semantic_result('/Users/yoon/Documents/gatech/spring24/WallAI/Data/Test/33a3ce25c7ce3f7cb7a14e0038a3dfff8f6a40a6.jpg')\n"
   ]
  },
  {
   "cell_type": "code",
   "execution_count": 8,
   "metadata": {},
   "outputs": [
    {
     "name": "stdout",
     "output_type": "stream",
     "text": [
      "hihih:  /Users/yoon/Documents/gatech/spring24/WallAI/pretrained_results\n",
      "Loading weights for net_encoder\n",
      "Loading weights for net_decoder\n",
      "<class 'PIL.Image.Image'>\n"
     ]
    }
   ],
   "source": [
    "# load the models\n",
    "\n",
    "# semantic\n",
    "import segmentation"
   ]
  },
  {
   "cell_type": "code",
   "execution_count": 9,
   "metadata": {},
   "outputs": [
    {
     "name": "stdout",
     "output_type": "stream",
     "text": [
      "hihih:  /Users/yoon/Documents/gatech/spring24/WallAI/pretrained_results\n",
      "Loading weights for net_encoder\n",
      "Loading weights for net_decoder\n",
      "hihih:  /Users/yoon/Documents/gatech/spring24/WallAI/pretrained_results\n",
      "Loading weights for net_encoder\n",
      "Loading weights for net_decoder\n",
      "hihih:  /Users/yoon/Documents/gatech/spring24/WallAI/pretrained_results\n",
      "Loading weights for net_encoder\n",
      "Loading weights for net_decoder\n",
      "hihih:  /Users/yoon/Documents/gatech/spring24/WallAI/pretrained_results\n",
      "Loading weights for net_encoder\n",
      "Loading weights for net_decoder\n",
      "hihih:  /Users/yoon/Documents/gatech/spring24/WallAI/pretrained_results\n",
      "Loading weights for net_encoder\n",
      "Loading weights for net_decoder\n",
      "hihih:  /Users/yoon/Documents/gatech/spring24/WallAI/pretrained_results\n",
      "Loading weights for net_encoder\n",
      "Loading weights for net_decoder\n",
      "hihih:  /Users/yoon/Documents/gatech/spring24/WallAI/pretrained_results\n",
      "Loading weights for net_encoder\n",
      "Loading weights for net_decoder\n",
      "hihih:  /Users/yoon/Documents/gatech/spring24/WallAI/pretrained_results\n",
      "Loading weights for net_encoder\n",
      "Loading weights for net_decoder\n",
      "hihih:  /Users/yoon/Documents/gatech/spring24/WallAI/pretrained_results\n",
      "Loading weights for net_encoder\n",
      "Loading weights for net_decoder\n",
      "hihih:  /Users/yoon/Documents/gatech/spring24/WallAI/pretrained_results\n",
      "Loading weights for net_encoder\n",
      "Loading weights for net_decoder\n",
      "hihih:  /Users/yoon/Documents/gatech/spring24/WallAI/pretrained_results\n",
      "Loading weights for net_encoder\n",
      "Loading weights for net_decoder\n",
      "hihih:  /Users/yoon/Documents/gatech/spring24/WallAI/pretrained_results\n",
      "Loading weights for net_encoder\n",
      "Loading weights for net_decoder\n",
      "hihih:  /Users/yoon/Documents/gatech/spring24/WallAI/pretrained_results\n",
      "Loading weights for net_encoder\n",
      "Loading weights for net_decoder\n",
      "hihih:  /Users/yoon/Documents/gatech/spring24/WallAI/pretrained_results\n",
      "Loading weights for net_encoder\n",
      "Loading weights for net_decoder\n",
      "hihih:  /Users/yoon/Documents/gatech/spring24/WallAI/pretrained_results\n",
      "Loading weights for net_encoder\n",
      "Loading weights for net_decoder\n",
      "hihih:  /Users/yoon/Documents/gatech/spring24/WallAI/pretrained_results\n",
      "Loading weights for net_encoder\n",
      "Loading weights for net_decoder\n",
      "hihih:  /Users/yoon/Documents/gatech/spring24/WallAI/pretrained_results\n",
      "Loading weights for net_encoder\n",
      "Loading weights for net_decoder\n",
      "hihih:  /Users/yoon/Documents/gatech/spring24/WallAI/pretrained_results\n",
      "Loading weights for net_encoder\n",
      "Loading weights for net_decoder\n",
      "hihih:  /Users/yoon/Documents/gatech/spring24/WallAI/pretrained_results\n",
      "Loading weights for net_encoder\n",
      "Loading weights for net_decoder\n",
      "hihih:  /Users/yoon/Documents/gatech/spring24/WallAI/pretrained_results\n",
      "Loading weights for net_encoder\n",
      "Loading weights for net_decoder\n",
      "hihih:  /Users/yoon/Documents/gatech/spring24/WallAI/pretrained_results\n",
      "Loading weights for net_encoder\n",
      "Loading weights for net_decoder\n",
      "hihih:  /Users/yoon/Documents/gatech/spring24/WallAI/pretrained_results\n",
      "Loading weights for net_encoder\n",
      "Loading weights for net_decoder\n",
      "hihih:  /Users/yoon/Documents/gatech/spring24/WallAI/pretrained_results\n",
      "Loading weights for net_encoder\n",
      "Loading weights for net_decoder\n",
      "hihih:  /Users/yoon/Documents/gatech/spring24/WallAI/pretrained_results\n",
      "Loading weights for net_encoder\n",
      "Loading weights for net_decoder\n",
      "hihih:  /Users/yoon/Documents/gatech/spring24/WallAI/pretrained_results\n",
      "Loading weights for net_encoder\n",
      "Loading weights for net_decoder\n",
      "hihih:  /Users/yoon/Documents/gatech/spring24/WallAI/pretrained_results\n",
      "Loading weights for net_encoder\n",
      "Loading weights for net_decoder\n",
      "hihih:  /Users/yoon/Documents/gatech/spring24/WallAI/pretrained_results\n",
      "Loading weights for net_encoder\n",
      "Loading weights for net_decoder\n",
      "hihih:  /Users/yoon/Documents/gatech/spring24/WallAI/pretrained_results\n",
      "Loading weights for net_encoder\n",
      "Loading weights for net_decoder\n",
      "hihih:  /Users/yoon/Documents/gatech/spring24/WallAI/pretrained_results\n",
      "Loading weights for net_encoder\n",
      "Loading weights for net_decoder\n",
      "hihih:  /Users/yoon/Documents/gatech/spring24/WallAI/pretrained_results\n",
      "Loading weights for net_encoder\n",
      "Loading weights for net_decoder\n",
      "hihih:  /Users/yoon/Documents/gatech/spring24/WallAI/pretrained_results\n",
      "Loading weights for net_encoder\n",
      "Loading weights for net_decoder\n",
      "hihih:  /Users/yoon/Documents/gatech/spring24/WallAI/pretrained_results\n",
      "Loading weights for net_encoder\n",
      "Loading weights for net_decoder\n",
      "hihih:  /Users/yoon/Documents/gatech/spring24/WallAI/pretrained_results\n",
      "Loading weights for net_encoder\n",
      "Loading weights for net_decoder\n",
      "hihih:  /Users/yoon/Documents/gatech/spring24/WallAI/pretrained_results\n",
      "Loading weights for net_encoder\n",
      "Loading weights for net_decoder\n",
      "hihih:  /Users/yoon/Documents/gatech/spring24/WallAI/pretrained_results\n",
      "Loading weights for net_encoder\n",
      "Loading weights for net_decoder\n",
      "hihih:  /Users/yoon/Documents/gatech/spring24/WallAI/pretrained_results\n",
      "Loading weights for net_encoder\n",
      "Loading weights for net_decoder\n",
      "hihih:  /Users/yoon/Documents/gatech/spring24/WallAI/pretrained_results\n",
      "Loading weights for net_encoder\n",
      "Loading weights for net_decoder\n",
      "hihih:  /Users/yoon/Documents/gatech/spring24/WallAI/pretrained_results\n",
      "Loading weights for net_encoder\n",
      "Loading weights for net_decoder\n",
      "hihih:  /Users/yoon/Documents/gatech/spring24/WallAI/pretrained_results\n",
      "Loading weights for net_encoder\n",
      "Loading weights for net_decoder\n",
      "hihih:  /Users/yoon/Documents/gatech/spring24/WallAI/pretrained_results\n",
      "Loading weights for net_encoder\n",
      "Loading weights for net_decoder\n"
     ]
    }
   ],
   "source": [
    "\n",
    "test_image_folder = '/Users/yoon/Documents/gatech/spring24/WallAI/Data/Test'\n",
    "test_folder_to_save_to = '/Users/yoon/Documents/gatech/spring24/WallAI/pretrained_results/semantic_results'\n",
    "\n",
    "# semantic\n",
    "def process_images_in_folder(folder_path, folder_to_save_to):\n",
    "    # Iterate through all files and directories in the specified folder\n",
    "    count = 0\n",
    "    for root, dirs, files in os.walk(folder_path):\n",
    "        for file in files:\n",
    "            # if count < 10:\n",
    "            if True:\n",
    "                # Construct the full path of the image file\n",
    "                image_path = os.path.join(root, file)\n",
    "                # Open the image using PIL\n",
    "                # img = Image.open(image_path)\n",
    "                \n",
    "                # Perform any processing here if needed\n",
    "                # img = segment_image(segmentation_module, image_path)\n",
    "                img = segmentation.return_semantic_result(image_path)\n",
    "\n",
    "                filename, extension = os.path.splitext(file)\n",
    "\n",
    "                # Save the processed image to a file\n",
    "                img.save(os.path.join(folder_to_save_to, filename + \"_segmentation\" + extension))  # Saving with a prefix \"processed_\"\n",
    "                # print(f\"Processed image: {file}\")\n",
    "\n",
    "                count += 1\n",
    "\n",
    "process_images_in_folder(test_image_folder, test_folder_to_save_to)\n"
   ]
  },
  {
   "cell_type": "code",
   "execution_count": null,
   "metadata": {},
   "outputs": [],
   "source": [
    "# directory to original test and train data"
   ]
  },
  {
   "cell_type": "code",
   "execution_count": null,
   "metadata": {},
   "outputs": [],
   "source": [
    "# loop and save the results in corresponding folders"
   ]
  }
 ],
 "metadata": {
  "kernelspec": {
   "display_name": "Python 3",
   "language": "python",
   "name": "python3"
  },
  "language_info": {
   "codemirror_mode": {
    "name": "ipython",
    "version": 3
   },
   "file_extension": ".py",
   "mimetype": "text/x-python",
   "name": "python",
   "nbconvert_exporter": "python",
   "pygments_lexer": "ipython3",
   "version": "3.11.8"
  }
 },
 "nbformat": 4,
 "nbformat_minor": 2
}
