{
 "cells": [
  {
   "cell_type": "code",
   "execution_count": 1,
   "metadata": {
    "pycharm": {
     "name": "#%%\n"
    }
   },
   "outputs": [],
   "source": [
    "from matplotlib.pyplot import imshow\n",
    "\n",
    "from models.models import SegmentationModule, build_encoder, build_decoder\n",
    "from src.eval import segment_image\n",
    "from utils.constants import DEVICE"
   ]
  },
  {
   "cell_type": "code",
   "execution_count": 2,
   "metadata": {
    "pycharm": {
     "name": "#%%\n"
    }
   },
   "outputs": [],
   "source": [
    "import os\n",
    "\n",
    "# path to image on which to run wall segmentation\n",
    "path_image_folder = '/Users/yoon/Documents/gatech/spring24/comp_vision/ADEChallengeData2016/images/training'\n",
    "image_name = 'ADE_train_00000017.jpg'\n",
    "\n",
    "path_image_folder = '/Users/yoon/Documents/gatech/spring24/comp_vision/ADEChallengeData2016/images'\n",
    "image_name = '/Users/yoon/Downloads/sample11.jpeg'\n",
    "\n",
    "path_image = os.path.join(path_image_folder, image_name)\n",
    "\n",
    "# Model weights (encoder and decoder)\n",
    "weights_encoder = '/Users/yoon/Documents/gatech/spring24/WallSegmentation/model_weights/Transfer learning - entire decoder/transfer_encoder.pth'\n",
    "weights_decoder = '/Users/yoon/Documents/gatech/spring24/WallSegmentation/model_weights/Transfer learning - entire decoder/transfer_decoder.pth'\n",
    "\n",
    "# weights_encoder = '/Users/yoon/Documents/gatech/spring24/WallSegmentation/ckpt/TRAINING_NAME/encoder_epoch_5.pth'\n",
    "# weights_decoder = '/Users/yoon/Documents/gatech/spring24/WallSegmentation/ckpt/TRAINING_NAME/decoder_epoch_5.pth'\n"
   ]
  },
  {
   "cell_type": "code",
   "execution_count": 3,
   "metadata": {
    "pycharm": {
     "name": "#%%\n"
    }
   },
   "outputs": [
    {
     "name": "stdout",
     "output_type": "stream",
     "text": [
      "Building encoder: resnet50-dilated\n",
      "Loading weights for net_encoder\n",
      "Loading weights for net_decoder\n"
     ]
    }
   ],
   "source": [
    "net_encoder = build_encoder(weights_encoder)\n",
    "net_decoder = build_decoder(weights_decoder)\n",
    "\n",
    "segmentation_module = SegmentationModule(net_encoder, net_decoder)\n",
    "segmentation_module = segmentation_module.to(DEVICE).eval()"
   ]
  },
  {
   "cell_type": "code",
   "execution_count": 4,
   "metadata": {
    "pycharm": {
     "name": "#%%\n"
    }
   },
   "outputs": [
    {
     "name": "stdout",
     "output_type": "stream",
     "text": [
      "ffweafwaefwef\n",
      "torch.Size([1, 2048, 47, 32])\n"
     ]
    }
   ],
   "source": [
    "# Predict wall on input image and return segmentation mask\n",
    "segmentation_mask = segment_image(segmentation_module, path_image)"
   ]
  },
  {
   "cell_type": "code",
   "execution_count": 5,
   "metadata": {
    "pycharm": {
     "name": "#%%\n"
    }
   },
   "outputs": [
    {
     "data": {
      "text/plain": [
       "<matplotlib.image.AxesImage at 0x1650981c0>"
      ]
     },
     "execution_count": 5,
     "metadata": {},
     "output_type": "execute_result"
    },
    {
     "data": {
      "image/png": "[encoded data removed]",
      "text/plain": [
       "<Figure size 640x480 with 1 Axes>"
      ]
     },
     "metadata": {},
     "output_type": "display_data"
    }
   ],
   "source": [
    "# Display segmentation mask\n",
    "imshow(segmentation_mask)"
   ]
  }
 ],
 "metadata": {
  "accelerator": "GPU",
  "colab": {
   "collapsed_sections": [],
   "name": "Testing.ipynb",
   "provenance": []
  },
  "kernelspec": {
   "display_name": "Python 3 (ipykernel)",
   "language": "python",
   "name": "python3"
  },
  "language_info": {
   "codemirror_mode": {
    "name": "ipython",
    "version": 3
   },
   "file_extension": ".py",
   "mimetype": "text/x-python",
   "name": "python",
   "nbconvert_exporter": "python",
   "pygments_lexer": "ipython3",
   "version": "3.10.6"
  }
 },
 "nbformat": 4,
 "nbformat_minor": 1
}
